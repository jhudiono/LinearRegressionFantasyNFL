{
 "cells": [
  {
   "cell_type": "code",
   "execution_count": 1,
   "metadata": {},
   "outputs": [],
   "source": [
    "from glob import glob\n",
    "\n",
    "import pandas as pd\n",
    "import re\n",
    "\n",
    "import sys,os,argparse\n",
    "\n",
    "\n",
    "NAN = float('nan')\n",
    "INPUT_PATH = \"data/1/{}.csv\"\n",
    "OUTPUT_PATH = \"data/2/{}.csv\""
   ]
  },
  {
   "cell_type": "markdown",
   "metadata": {},
   "source": [
    "Notes on status definitions:\n",
    "* http://www.espn.com/nfl/story/_/id/17361111/nfl-streamlines-injured-players-game-status-removes-probable-designation\n",
    "* http://harvardsportsanalysis.org/2013/11/inaccuracies-in-the-injury-report-across-the-nfl/\n",
    "\n",
    "I will be coding non-injured to 0 and all other statuses to 1. \"Out\" players should not be appearing in the data."
   ]
  },
  {
   "cell_type": "markdown",
   "metadata": {},
   "source": [
    "# Import data"
   ]
  },
  {
   "cell_type": "code",
   "execution_count": 11,
   "metadata": {},
   "outputs": [],
   "source": [
    "def injury_df_from_files(files):\n",
    "    df = pd.concat([pd.read_csv(file) for file in files])\n",
    "    df['name'] = df['name'].apply(reformat_name)\n",
    "    df['status_code'] = [get_status_code(status) for status in df['status']]\n",
    "    df.sort_values(['name', 'season', 'week'], inplace=True)\n",
    "    if 'Unnamed: 0' in df.columns:\n",
    "        df.drop(columns='Unnamed: 0', inplace=True)\n",
    "    # we actually want the weather data to correspond to next_fp, not current fp!\n",
    "    df['week'] = df['week'] - 1\n",
    "    return df"
   ]
  },
  {
   "cell_type": "markdown",
   "metadata": {},
   "source": [
    "# Reformat name, convert injury to status code"
   ]
  },
  {
   "cell_type": "code",
   "execution_count": 12,
   "metadata": {},
   "outputs": [],
   "source": [
    "def reformat_name(name):\n",
    "    return ' '.join(name.split(', ')[::-1])\n",
    "\n",
    "def get_status_code(status):\n",
    "    injury_status = ['questionable', 'doubtful', 'day-to-day', 'out', 'injured reserve (dfr)']\n",
    "    status = status.lower()\n",
    "    if status in injury_status:\n",
    "        return 1\n",
    "    return 0"
   ]
  },
  {
   "cell_type": "markdown",
   "metadata": {},
   "source": [
    "# ... now run everything"
   ]
  },
  {
   "cell_type": "code",
   "execution_count": 13,
   "metadata": {},
   "outputs": [],
   "source": [
    "INJURY_FILES = glob(INPUT_PATH.format(\"*injury*\"))\n",
    "assert len(INJURY_FILES) > 0, \"where are my files???\"\n",
    "\n",
    "injury_df = injury_df_from_files(INJURY_FILES)"
   ]
  }
 ],
 "metadata": {
  "kernelspec": {
   "display_name": "Python 3",
   "language": "python",
   "name": "python3"
  },
  "language_info": {
   "codemirror_mode": {
    "name": "ipython",
    "version": 3
   },
   "file_extension": ".py",
   "mimetype": "text/x-python",
   "name": "python",
   "nbconvert_exporter": "python",
   "pygments_lexer": "ipython3",
   "version": "3.6.5"
  }
 },
 "nbformat": 4,
 "nbformat_minor": 2
}
