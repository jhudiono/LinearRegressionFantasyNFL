{
 "cells": [
  {
   "cell_type": "code",
   "execution_count": 50,
   "metadata": {},
   "outputs": [],
   "source": [
    "from collections import defaultdict\n",
    "from glob import glob\n",
    "\n",
    "import numpy as np\n",
    "import pandas as pd\n",
    "import patsy\n",
    "import re\n",
    "\n",
    "NAN = float('nan')\n",
    "OUTPUT_PATH = \"data/2/{}.csv\""
   ]
  },
  {
   "cell_type": "markdown",
   "metadata": {},
   "source": [
    "# Import data"
   ]
  },
  {
   "cell_type": "code",
   "execution_count": 51,
   "metadata": {},
   "outputs": [],
   "source": [
    "INPUT_PATH = \"data/1/{}.csv\"\n",
    "GAMES_FILES = glob(INPUT_PATH.format(\"games_*\"))\n",
    "\n",
    "def games_df_from_files(files):\n",
    "    dfs = []\n",
    "    for file in files:\n",
    "        df = pd.read_csv(file)\n",
    "        \n",
    "        # get rid of 'Unnamed: 0' column\n",
    "        if 'Unnamed: 0' in df.columns:\n",
    "            df.drop(columns='Unnamed: 0', inplace=True)\n",
    "            \n",
    "        # set column names\n",
    "        df.columns = ['team1', 'team2', 'result', 'forecast', 'details', 'wind', 'link']\n",
    "        \n",
    "        # add week and season\n",
    "        file_arr = file.strip('.csv').split('_')\n",
    "        df['week'] = int(file_arr[2])\n",
    "        df['season'] = int(file_arr[1])\n",
    "        \n",
    "        dfs.append(df)\n",
    "    return pd.concat(dfs)"
   ]
  },
  {
   "cell_type": "markdown",
   "metadata": {},
   "source": [
    "# team1, team2 -> teams"
   ]
  },
  {
   "cell_type": "code",
   "execution_count": 52,
   "metadata": {},
   "outputs": [],
   "source": [
    "def separate_teams(df):\n",
    "    df2 = df.loc[:,('team2', 'result', 'forecast', 'details', 'wind', 'link', 'week', 'season')]\n",
    "    df2.rename(index=str, columns={\"team2\": \"team1\"}, inplace=True)\n",
    "    df = df.loc[:,('team1', 'result', 'forecast', 'details', 'wind', 'link', 'week', 'season')].append(df2)\n",
    "    df.rename(index=str, columns={\"team1\": \"team\"}, inplace=True)\n",
    "    df = df.sort_values(by=['season', 'week'])\n",
    "    return df"
   ]
  },
  {
   "cell_type": "markdown",
   "metadata": {},
   "source": [
    "# Weather"
   ]
  },
  {
   "cell_type": "code",
   "execution_count": 53,
   "metadata": {},
   "outputs": [],
   "source": [
    "PRECIPITATION = ['rain', 'snow', 'drizzle', 'flurries']\n",
    "\n",
    "def extract_temp(forecast):\n",
    "    if forecast == 'DOME':\n",
    "        return forecast\n",
    "    else:\n",
    "        p = re.compile(\"\\d+\")\n",
    "        if p.match(forecast):\n",
    "            return p.match(forecast).group()\n",
    "    return '?'\n",
    "    \n",
    "def extract_precipitation(forecast):\n",
    "    if forecast == 'DOME':\n",
    "        return 0\n",
    "    else:\n",
    "        forecast = forecast.lower()\n",
    "        for p in PRECIPITATION:\n",
    "            if p in forecast:\n",
    "                return 1\n",
    "        return 0\n",
    "\n",
    "def extract_wind(wind):\n",
    "    p = re.compile(\"\\d\")\n",
    "    if p.match(wind):\n",
    "        return p.match(wind).group()\n",
    "    return float('nan')\n",
    "    \n",
    "def prepare_weather(df):\n",
    "    df['temperature'] = df['forecast'].apply(extract_temp)  # temperature\n",
    "    df['precipitation'] = df['forecast'].apply(extract_precipitation)  # precipitation\n",
    "    df['wind'] = np.where(df['forecast'] != 'DOME', df['wind'].apply(extract_wind), 0)  # wind magnitude    \n",
    "    return df\n"
   ]
  },
  {
   "cell_type": "markdown",
   "metadata": {},
   "source": [
    "# ... now run everything"
   ]
  },
  {
   "cell_type": "code",
   "execution_count": 64,
   "metadata": {
    "scrolled": true
   },
   "outputs": [
    {
     "data": {
      "text/html": [
       "<div>\n",
       "<style scoped>\n",
       "    .dataframe tbody tr th:only-of-type {\n",
       "        vertical-align: middle;\n",
       "    }\n",
       "\n",
       "    .dataframe tbody tr th {\n",
       "        vertical-align: top;\n",
       "    }\n",
       "\n",
       "    .dataframe thead th {\n",
       "        text-align: right;\n",
       "    }\n",
       "</style>\n",
       "<table border=\"1\" class=\"dataframe\">\n",
       "  <thead>\n",
       "    <tr style=\"text-align: right;\">\n",
       "      <th></th>\n",
       "      <th>team</th>\n",
       "      <th>wind</th>\n",
       "      <th>week</th>\n",
       "      <th>season</th>\n",
       "      <th>temperature</th>\n",
       "      <th>precipitation</th>\n",
       "    </tr>\n",
       "  </thead>\n",
       "  <tbody>\n",
       "    <tr>\n",
       "      <th>0</th>\n",
       "      <td>Panthers</td>\n",
       "      <td>2</td>\n",
       "      <td>1</td>\n",
       "      <td>2016</td>\n",
       "      <td>82</td>\n",
       "      <td>0</td>\n",
       "    </tr>\n",
       "    <tr>\n",
       "      <th>1</th>\n",
       "      <td>Buccaneers</td>\n",
       "      <td>0</td>\n",
       "      <td>1</td>\n",
       "      <td>2016</td>\n",
       "      <td>DOME</td>\n",
       "      <td>0</td>\n",
       "    </tr>\n",
       "    <tr>\n",
       "      <th>2</th>\n",
       "      <td>Vikings</td>\n",
       "      <td>3</td>\n",
       "      <td>1</td>\n",
       "      <td>2016</td>\n",
       "      <td>77</td>\n",
       "      <td>0</td>\n",
       "    </tr>\n",
       "    <tr>\n",
       "      <th>3</th>\n",
       "      <td>Browns</td>\n",
       "      <td>9</td>\n",
       "      <td>1</td>\n",
       "      <td>2016</td>\n",
       "      <td>83</td>\n",
       "      <td>0</td>\n",
       "    </tr>\n",
       "    <tr>\n",
       "      <th>4</th>\n",
       "      <td>Bengals</td>\n",
       "      <td>9</td>\n",
       "      <td>1</td>\n",
       "      <td>2016</td>\n",
       "      <td>80</td>\n",
       "      <td>0</td>\n",
       "    </tr>\n",
       "  </tbody>\n",
       "</table>\n",
       "</div>"
      ],
      "text/plain": [
       "         team wind  week  season temperature  precipitation\n",
       "0    Panthers    2     1    2016          82              0\n",
       "1  Buccaneers    0     1    2016        DOME              0\n",
       "2     Vikings    3     1    2016          77              0\n",
       "3      Browns    9     1    2016          83              0\n",
       "4     Bengals    9     1    2016          80              0"
      ]
     },
     "execution_count": 64,
     "metadata": {},
     "output_type": "execute_result"
    }
   ],
   "source": [
    "games_df = games_df_from_files(GAMES_FILES)\n",
    "assert len(games_df) > 0\n",
    "\n",
    "before_len = len(games_df)\n",
    "games_df = separate_teams(games_df)\n",
    "assert 'team' in games_df.columns\n",
    "assert 'team1' not in games_df.columns\n",
    "assert 'team2' not in games_df.columns\n",
    "assert len(games_df) == 2*before_len\n",
    "\n",
    "cols = ['precipitation', 'wind', 'temperature']\n",
    "games_df = prepare_weather(games_df)\n",
    "for c in cols:\n",
    "    assert c in games_df.columns, c\n",
    "\n",
    "cols = ['forecast', 'result', 'details', 'link']\n",
    "games_df.drop(columns=cols, inplace=True)\n",
    "for c in cols:\n",
    "    assert c not in games_df.columns, c\n",
    "\n",
    "games_df.head()"
   ]
  },
  {
   "cell_type": "code",
   "execution_count": 1,
   "metadata": {},
   "outputs": [
    {
     "ename": "NameError",
     "evalue": "name 'games_df' is not defined",
     "output_type": "error",
     "traceback": [
      "\u001b[0;31m---------------------------------------------------------------------------\u001b[0m",
      "\u001b[0;31mNameError\u001b[0m                                 Traceback (most recent call last)",
      "\u001b[0;32m<ipython-input-1-239edac81355>\u001b[0m in \u001b[0;36m<module>\u001b[0;34m()\u001b[0m\n\u001b[0;32m----> 1\u001b[0;31m \u001b[0mmin_s\u001b[0m \u001b[0;34m=\u001b[0m \u001b[0mstr\u001b[0m\u001b[0;34m(\u001b[0m\u001b[0mgames_df\u001b[0m\u001b[0;34m.\u001b[0m\u001b[0mseason\u001b[0m\u001b[0;34m.\u001b[0m\u001b[0mmin\u001b[0m\u001b[0;34m(\u001b[0m\u001b[0;34m)\u001b[0m\u001b[0;34m)\u001b[0m\u001b[0;34m\u001b[0m\u001b[0m\n\u001b[0m\u001b[1;32m      2\u001b[0m \u001b[0mmax_s\u001b[0m \u001b[0;34m=\u001b[0m \u001b[0mstr\u001b[0m\u001b[0;34m(\u001b[0m\u001b[0mgames_df\u001b[0m\u001b[0;34m.\u001b[0m\u001b[0mseason\u001b[0m\u001b[0;34m.\u001b[0m\u001b[0mmax\u001b[0m\u001b[0;34m(\u001b[0m\u001b[0;34m)\u001b[0m\u001b[0;34m)\u001b[0m\u001b[0;34m\u001b[0m\u001b[0m\n\u001b[1;32m      3\u001b[0m \u001b[0;34m\u001b[0m\u001b[0m\n\u001b[1;32m      4\u001b[0m \u001b[0mname\u001b[0m \u001b[0;34m=\u001b[0m \u001b[0;34m\"games_\"\u001b[0m \u001b[0;34m+\u001b[0m \u001b[0mmin_s\u001b[0m\u001b[0;34m\u001b[0m\u001b[0m\n\u001b[1;32m      5\u001b[0m \u001b[0;32mif\u001b[0m \u001b[0mmax_s\u001b[0m \u001b[0;34m!=\u001b[0m \u001b[0mmin_s\u001b[0m\u001b[0;34m:\u001b[0m\u001b[0;34m\u001b[0m\u001b[0m\n",
      "\u001b[0;31mNameError\u001b[0m: name 'games_df' is not defined"
     ]
    }
   ],
   "source": [
    "min_s = str(games_df.season.min())\n",
    "max_s = str(games_df.season.max())\n",
    "\n",
    "name = \"games_\" + min_s\n",
    "if max_s != min_s:\n",
    "    name += \"-\" + max_s\n",
    "    \n",
    "#print(\"Writing file to \", OUTPUT_PATH.format(name))\n",
    "#games_df.to_csv(OUTPUT_PATH.format(name))\n",
    "#print(\"Done!\")"
   ]
  },
  {
   "cell_type": "code",
   "execution_count": null,
   "metadata": {},
   "outputs": [],
   "source": []
  }
 ],
 "metadata": {
  "kernelspec": {
   "display_name": "Python 3",
   "language": "python",
   "name": "python3"
  },
  "language_info": {
   "codemirror_mode": {
    "name": "ipython",
    "version": 3
   },
   "file_extension": ".py",
   "mimetype": "text/x-python",
   "name": "python",
   "nbconvert_exporter": "python",
   "pygments_lexer": "ipython3",
   "version": "3.6.5"
  }
 },
 "nbformat": 4,
 "nbformat_minor": 2
}
