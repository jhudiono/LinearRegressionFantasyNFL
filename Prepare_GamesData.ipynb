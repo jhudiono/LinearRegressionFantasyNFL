{
 "cells": [
  {
   "cell_type": "code",
   "execution_count": 19,
   "metadata": {},
   "outputs": [],
   "source": [
    "from collections import defaultdict\n",
    "from glob import glob\n",
    "\n",
    "import numpy as np\n",
    "import pandas as pd\n",
    "import patsy\n",
    "import re\n",
    "\n",
    "NAN = float('nan')\n",
    "OUTPUT_PATH = \"data/2/{}.csv\""
   ]
  },
  {
   "cell_type": "markdown",
   "metadata": {},
   "source": [
    "# Import data"
   ]
  },
  {
   "cell_type": "code",
   "execution_count": 20,
   "metadata": {},
   "outputs": [],
   "source": [
    "INPUT_PATH = \"data/1/{}.csv\"\n",
    "GAMES_FILES = glob(INPUT_PATH.format(\"games_*\"))\n",
    "\n",
    "def games_df_from_files(files):\n",
    "    dfs = []\n",
    "    for file in files:\n",
    "        df = pd.read_csv(file)\n",
    "        \n",
    "        # get rid of 'Unnamed: 0' column\n",
    "        if 'Unnamed: 0' in df.columns:\n",
    "            df.drop(columns='Unnamed: 0', inplace=True)\n",
    "            \n",
    "        # set column names\n",
    "        df.columns = ['team1', 'team2', 'result', 'forecast', 'details', 'wind', 'link']\n",
    "        \n",
    "        # add week and season\n",
    "        file_arr = file.strip('.csv').split('_')\n",
    "        df['week'] = int(file_arr[2])\n",
    "        df['season'] = int(file_arr[1])\n",
    "        \n",
    "        dfs.append(df)\n",
    "        \n",
    "    df = pd.concat(dfs)\n",
    "    # we actually want the weather data to correspond to next_fp, not current fp!\n",
    "    df['week'] = df['week'] - 1\n",
    "    return df"
   ]
  },
  {
   "cell_type": "markdown",
   "metadata": {},
   "source": [
    "# team1, team2 -> teams"
   ]
  },
  {
   "cell_type": "code",
   "execution_count": 21,
   "metadata": {},
   "outputs": [],
   "source": [
    "def separate_teams(df):\n",
    "    df2 = df.loc[:,('team2', 'result', 'forecast', 'details', 'wind', 'link', 'week', 'season')]\n",
    "    df2.rename(index=str, columns={\"team2\": \"team1\"}, inplace=True)\n",
    "    df = df.loc[:,('team1', 'result', 'forecast', 'details', 'wind', 'link', 'week', 'season')].append(df2)\n",
    "    df.rename(index=str, columns={\"team1\": \"team\"}, inplace=True)\n",
    "    df = df.sort_values(by=['season', 'week'])\n",
    "    return df"
   ]
  },
  {
   "cell_type": "markdown",
   "metadata": {},
   "source": [
    "# Weather"
   ]
  },
  {
   "cell_type": "code",
   "execution_count": 22,
   "metadata": {},
   "outputs": [],
   "source": [
    "PRECIPITATION = ['rain', 'snow', 'drizzle', 'flurries']\n",
    "\n",
    "def extract_temp(forecast):\n",
    "    if forecast == 'DOME':\n",
    "        return 70\n",
    "    else:\n",
    "        p = re.compile(\"\\d+\")\n",
    "        if p.match(forecast):\n",
    "            return p.match(forecast).group()\n",
    "    return '?'\n",
    "    \n",
    "def extract_precipitation(forecast):\n",
    "    if forecast == 'DOME':\n",
    "        return 0\n",
    "    else:\n",
    "        forecast = forecast.lower()\n",
    "        for p in PRECIPITATION:\n",
    "            if p in forecast:\n",
    "                return 1\n",
    "        return 0\n",
    "\n",
    "def extract_wind(wind):\n",
    "    p = re.compile(\"\\d\")\n",
    "    try:\n",
    "        if p.match(wind):\n",
    "            return p.match(wind).group()\n",
    "        return float('nan')\n",
    "    except:\n",
    "        return float('nan')\n",
    "    \n",
    "def prepare_weather(df):\n",
    "    df['temperature'] = df['forecast'].apply(extract_temp)  # temperature\n",
    "    df['precipitation'] = df['forecast'].apply(extract_precipitation)  # precipitation\n",
    "    df['wind'] = np.where(df['forecast'] != 'DOME', df['wind'].apply(extract_wind), 0)  # wind magnitude\n",
    "    return df\n"
   ]
  },
  {
   "cell_type": "markdown",
   "metadata": {},
   "source": [
    "# ... now run everything"
   ]
  },
  {
   "cell_type": "code",
   "execution_count": 24,
   "metadata": {
    "scrolled": true
   },
   "outputs": [
    {
     "name": "stdout",
     "output_type": "stream",
     "text": [
      "Backfilling 6 out of 2200\n"
     ]
    },
    {
     "data": {
      "text/html": [
       "<div>\n",
       "<style scoped>\n",
       "    .dataframe tbody tr th:only-of-type {\n",
       "        vertical-align: middle;\n",
       "    }\n",
       "\n",
       "    .dataframe tbody tr th {\n",
       "        vertical-align: top;\n",
       "    }\n",
       "\n",
       "    .dataframe thead th {\n",
       "        text-align: right;\n",
       "    }\n",
       "</style>\n",
       "<table border=\"1\" class=\"dataframe\">\n",
       "  <thead>\n",
       "    <tr style=\"text-align: right;\">\n",
       "      <th></th>\n",
       "      <th>team</th>\n",
       "      <th>wind</th>\n",
       "      <th>week</th>\n",
       "      <th>season</th>\n",
       "      <th>temperature</th>\n",
       "      <th>precipitation</th>\n",
       "    </tr>\n",
       "  </thead>\n",
       "  <tbody>\n",
       "    <tr>\n",
       "      <th>0</th>\n",
       "      <td>Packers</td>\n",
       "      <td>5</td>\n",
       "      <td>0</td>\n",
       "      <td>2014</td>\n",
       "      <td>70</td>\n",
       "      <td>0</td>\n",
       "    </tr>\n",
       "    <tr>\n",
       "      <th>1</th>\n",
       "      <td>Saints</td>\n",
       "      <td>0</td>\n",
       "      <td>0</td>\n",
       "      <td>2014</td>\n",
       "      <td>70</td>\n",
       "      <td>0</td>\n",
       "    </tr>\n",
       "    <tr>\n",
       "      <th>2</th>\n",
       "      <td>Bills</td>\n",
       "      <td>7</td>\n",
       "      <td>0</td>\n",
       "      <td>2014</td>\n",
       "      <td>77</td>\n",
       "      <td>0</td>\n",
       "    </tr>\n",
       "    <tr>\n",
       "      <th>3</th>\n",
       "      <td>Titans</td>\n",
       "      <td>5</td>\n",
       "      <td>0</td>\n",
       "      <td>2014</td>\n",
       "      <td>77</td>\n",
       "      <td>0</td>\n",
       "    </tr>\n",
       "    <tr>\n",
       "      <th>4</th>\n",
       "      <td>Vikings</td>\n",
       "      <td>0</td>\n",
       "      <td>0</td>\n",
       "      <td>2014</td>\n",
       "      <td>70</td>\n",
       "      <td>0</td>\n",
       "    </tr>\n",
       "  </tbody>\n",
       "</table>\n",
       "</div>"
      ],
      "text/plain": [
       "      team wind  week  season temperature  precipitation\n",
       "0  Packers    5     0    2014          70              0\n",
       "1   Saints    0     0    2014          70              0\n",
       "2    Bills    7     0    2014          77              0\n",
       "3   Titans    5     0    2014          77              0\n",
       "4  Vikings    0     0    2014          70              0"
      ]
     },
     "execution_count": 24,
     "metadata": {},
     "output_type": "execute_result"
    }
   ],
   "source": [
    "games_df = games_df_from_files(GAMES_FILES)\n",
    "assert len(games_df) > 0\n",
    "\n",
    "before_len = len(games_df)\n",
    "games_df = separate_teams(games_df)\n",
    "assert 'team' in games_df.columns\n",
    "assert 'team1' not in games_df.columns\n",
    "assert 'team2' not in games_df.columns\n",
    "assert len(games_df) == 2*before_len\n",
    "\n",
    "cols = ['precipitation', 'wind', 'temperature']\n",
    "games_df = prepare_weather(games_df)\n",
    "for c in cols:\n",
    "    assert c in games_df.columns, c\n",
    "\n",
    "# Cleanup\n",
    "cols = ['forecast', 'result', 'details', 'link']\n",
    "games_df.drop(columns=cols, inplace=True)\n",
    "for c in cols:\n",
    "    assert c not in games_df.columns, c\n",
    "\n",
    "# TODO: come up with a better method for guessing appropriate NaN replacement\n",
    "backfill_rows = games_df.isnull().sum().sum()\n",
    "print(\"Backfilling\", backfill_rows, \"out of\", len(games_df))\n",
    "games_df.fillna(method='bfill', inplace=True)\n",
    "assert games_df.isnull().sum().sum() == 0\n",
    "\n",
    "games_df.head()"
   ]
  },
  {
   "cell_type": "code",
   "execution_count": 25,
   "metadata": {},
   "outputs": [
    {
     "name": "stdout",
     "output_type": "stream",
     "text": [
      "Writing file to  data/2/games_2014-2017.csv\n",
      "Done!\n"
     ]
    }
   ],
   "source": [
    "min_s = str(games_df.season.min())\n",
    "max_s = str(games_df.season.max())\n",
    "\n",
    "name = \"games_\" + min_s\n",
    "if max_s != min_s:\n",
    "    name += \"-\" + max_s\n",
    "    \n",
    "print(\"Writing file to \", OUTPUT_PATH.format(name))\n",
    "games_df.to_csv(OUTPUT_PATH.format(name))\n",
    "print(\"Done!\")"
   ]
  },
  {
   "cell_type": "code",
   "execution_count": null,
   "metadata": {},
   "outputs": [],
   "source": []
  }
 ],
 "metadata": {
  "kernelspec": {
   "display_name": "Python 3",
   "language": "python",
   "name": "python3"
  },
  "language_info": {
   "codemirror_mode": {
    "name": "ipython",
    "version": 3
   },
   "file_extension": ".py",
   "mimetype": "text/x-python",
   "name": "python",
   "nbconvert_exporter": "python",
   "pygments_lexer": "ipython3",
   "version": "3.6.5"
  }
 },
 "nbformat": 4,
 "nbformat_minor": 2
}
