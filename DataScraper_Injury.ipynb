{
 "cells": [
  {
   "cell_type": "markdown",
   "metadata": {},
   "source": [
    "Get injury data from http://www.foxsports.com/nfl/injuries.\n",
    "\n",
    "    'seasons' : range(2013, 2018)\n",
    "    'weeks' : range(1, 18) \n",
    "    'columns' : ['name', 'injury', 'status', 'position']\n",
    "    \n",
    "Save to format data/1/fs_injury_{year1-year2}.csv"
   ]
  },
  {
   "cell_type": "code",
   "execution_count": 2,
   "metadata": {},
   "outputs": [
    {
     "name": "stdout",
     "output_type": "stream",
     "text": [
      "You imported PandaSoup!\n"
     ]
    }
   ],
   "source": [
    "from bs4 import BeautifulSoup\n",
    "import pandas as pd\n",
    "\n",
    "%run ../PandaSoup/PandaSoup.ipynb"
   ]
  },
  {
   "cell_type": "code",
   "execution_count": 3,
   "metadata": {},
   "outputs": [],
   "source": [
    "import requests\n",
    "response = requests.get(\"http://www.foxsports.com/nfl/injuries?season=2015&seasonType=1&week=10\")\n",
    "soup = BeautifulSoup(response.text, \"lxml\")"
   ]
  },
  {
   "cell_type": "code",
   "execution_count": 19,
   "metadata": {},
   "outputs": [
    {
     "name": "stdout",
     "output_type": "stream",
     "text": [
      "2015\n",
      "10\n"
     ]
    }
   ],
   "source": [
    "options = soup.find_all(\"option\", selected=True)\n",
    "print(options[0].text)\n",
    "print(options[1].text.strip(\"Week \"))\n",
    "#print(soup.find(xpath=\"//section[1]/div/section[1]/div/div[2]/div/div[1]/select[1]/option[5]\"))"
   ]
  },
  {
   "cell_type": "code",
   "execution_count": 20,
   "metadata": {},
   "outputs": [],
   "source": [
    "def extract_data(soup):\n",
    "    players = {}\n",
    "    table = soup.find_all(class_=re.compile('wisbb_fullPlayer'))\n",
    "    options = soup.find_all(\"option\", selected=True)\n",
    "    season = options[0].text\n",
    "    week = options[1].text.strip(\"Week \")\n",
    "    for i, link in enumerate(table):\n",
    "        row = link.findParent().findChildren('td')\n",
    "        row = [td.text.strip() for td in row]\n",
    "        # parse out name and position\n",
    "        name, pos = (re.sub(r'\\n\\n.*\\n', '', row[0]).split('\\n'))\n",
    "        if pos in ['WB', 'RB', 'TE']:\n",
    "            row[0] = name\n",
    "            row.append(pos)\n",
    "            row.append(season)\n",
    "            row.append(week)\n",
    "            players[i] = row\n",
    "    return pd.DataFrame(players).T"
   ]
  },
  {
   "cell_type": "code",
   "execution_count": 25,
   "metadata": {},
   "outputs": [],
   "source": [
    "pages = []\n",
    "for y in [2015]:\n",
    "    for w in range(1, 18):\n",
    "        pages.append((y, w))"
   ]
  },
  {
   "cell_type": "code",
   "execution_count": null,
   "metadata": {
    "scrolled": true
   },
   "outputs": [
    {
     "name": "stdout",
     "output_type": "stream",
     "text": [
      "parameter values (2015, 1) --> key (2015,)\n",
      "Reading http://www.foxsports.com/nfl/injuries?season=2015&seasonType=1&week=1\n",
      "parameter values (2015, 2) --> key (2015,)\n",
      "Reading http://www.foxsports.com/nfl/injuries?season=2015&seasonType=1&week=2\n",
      "parameter values (2015, 3) --> key (2015,)\n",
      "Reading http://www.foxsports.com/nfl/injuries?season=2015&seasonType=1&week=3\n",
      "parameter values (2015, 4) --> key (2015,)\n",
      "Reading http://www.foxsports.com/nfl/injuries?season=2015&seasonType=1&week=4\n",
      "parameter values (2015, 5) --> key (2015,)\n",
      "Reading http://www.foxsports.com/nfl/injuries?season=2015&seasonType=1&week=5\n",
      "parameter values (2015, 6) --> key (2015,)\n",
      "Reading http://www.foxsports.com/nfl/injuries?season=2015&seasonType=1&week=6\n",
      "parameter values (2015, 7) --> key (2015,)\n",
      "Reading http://www.foxsports.com/nfl/injuries?season=2015&seasonType=1&week=7\n",
      "parameter values (2015, 8) --> key (2015,)\n",
      "Reading http://www.foxsports.com/nfl/injuries?season=2015&seasonType=1&week=8\n",
      "parameter values (2015, 9) --> key (2015,)\n",
      "Reading http://www.foxsports.com/nfl/injuries?season=2015&seasonType=1&week=9\n"
     ]
    }
   ],
   "source": [
    "import copy\n",
    "params2 = {\n",
    "    'base' : 'http://www.foxsports.com/nfl/injuries?season={}&seasonType=1&week={}',\n",
    "    'param_names' : ['season', 'week'],\n",
    "    'request_delay' : 2,\n",
    "    'extract_func': extract_data,\n",
    "    'csv_base' : \"data/1/fs_injury_{}.csv\",\n",
    "    'grouping_strategy' : [\"season\"]\n",
    "}\n",
    "\n",
    "ps2 = PandaSoup(params2)\n",
    "ps2.scrape_all(pages, verbose=True)\n",
    "len(ps2.raw_data)"
   ]
  },
  {
   "cell_type": "code",
   "execution_count": 23,
   "metadata": {},
   "outputs": [
    {
     "data": {
      "text/plain": [
       "defaultdict(list,\n",
       "            {(2014,):                       0                            1                      2  \\\n",
       "             0      Bostick, Brandon                       fibula                    Out   \n",
       "             4        Helfet, Cooper                         knee                    Out   \n",
       "             8    Michael, Christine                    hamstring                    Out   \n",
       "             14          Lorig, Erik                        ankle                    Out   \n",
       "             19        Burkhead, Rex                         knee                    Out   \n",
       "             21        Eifert, Tyler                     shoulder               Probable   \n",
       "             23      Peerman, Cedric                          hip               Probable   \n",
       "             28      Pierce, Bernard                   concussion               Probable   \n",
       "             30        Dixon, Boobie                    hamstring           Questionable   \n",
       "             34           Smith, Lee                          toe               Doubtful   \n",
       "             40      Fiammetta, Tony                    hamstring           Questionable   \n",
       "             45         Reed, Jordan                        thumb           Questionable   \n",
       "             49      Graham, Garrett                         back           Questionable   \n",
       "             56          Prosch, Jay                         hand               Probable   \n",
       "             59       Battle, Jackie                     shoulder               Probable   \n",
       "             71     Sherman, Anthony                         back               Probable   \n",
       "             72   Thomas, De'Anthony                    hamstring               Doubtful   \n",
       "             78      Gronkowski, Rob                         knee           Questionable   \n",
       "             90      Ausberry, David                         knee               Probable   \n",
       "             106        Harbor, Clay                         calf                    Out   \n",
       "             107      Johnson, Storm                        ankle                    Out   \n",
       "             116         Polk, Chris                    hamstring           Questionable   \n",
       "             132        Spaeth, Matt                    hamstring               Probable   \n",
       "             138          Line, Zach                        ankle                    Out   \n",
       "             155     McDonald, Vance                    hamstring               Probable   \n",
       "             167         James, Mike                     shoulder               Probable   \n",
       "             169    Lane, Jorvorskie                         hand               Probable   \n",
       "             173       Sims, Charles          right ankle surgery  Injured Reserve (DFR)   \n",
       "             206      Gates, Antonio                    hamstring           Questionable   \n",
       "             212    Ellington, Andre                         foot           Questionable   \n",
       "             ..                  ...                          ...                    ...   \n",
       "             180       Allen, Dwayne                         knee                    Out   \n",
       "             188   Richardson, Trent                    hamstring             Day-to-Day   \n",
       "             199     Walker, Delanie                   concussion             Day-to-Day   \n",
       "             208     Murray, DeMarco                hand, illness               Probable   \n",
       "             221       Helu Jr., Roy          strained quadriceps             Day-to-Day   \n",
       "             227         Paul, Niles                   concussion             Day-to-Day   \n",
       "             232       Young, Darrel                        ankle               Probable   \n",
       "             234   Stewart, Jonathan         right knee contusion             Day-to-Day   \n",
       "             235       Tolbert, Mike  hairline fracture right leg  Injured Reserve (DFR)   \n",
       "             236  Williams, DeAngelo                         hand               Probable   \n",
       "             240     Jackson, Steven                   quadriceps           Questionable   \n",
       "             244        Bell, Joique                     Achilles               Probable   \n",
       "             245        Bush, Reggie                        ankle             Day-to-Day   \n",
       "             252         Lacy, Eddie                          hip             Day-to-Day   \n",
       "             266    Murray, Latavius                   concussion             Day-to-Day   \n",
       "             269      Anderson, C.J.                        ankle               Probable   \n",
       "             275     Hillman, Ronnie                         foot               Probable   \n",
       "             282        Tamme, Jacob                         foot               Probable   \n",
       "             284      Thomas, Julius                        ankle               Probable   \n",
       "             285     Thompson, Juwan                    hip, knee               Probable   \n",
       "             295       Carlson, John                         calf           Questionable   \n",
       "             312       Davis, Vernon                         back             Day-to-Day   \n",
       "             314         Gore, Frank                   concussion             Day-to-Day   \n",
       "             315        Hyde, Carlos                        ankle                    Out   \n",
       "             326      Helfet, Cooper                         ribs           Questionable   \n",
       "             329     Lynch, Marshawn                         back               Probable   \n",
       "             331        Moeaki, Tony                     shoulder               Probable   \n",
       "             338       Eifert, Tyler                        elbow  Injured Reserve (DFR)   \n",
       "             350     Palmer, Michael                        groin           Questionable   \n",
       "             353        Spaeth, Matt                        elbow               Probable   \n",
       "             \n",
       "                   3     4   5  \n",
       "             0    TE  2014   1  \n",
       "             4    TE  2014   1  \n",
       "             8    RB  2014   1  \n",
       "             14   RB  2014   1  \n",
       "             19   RB  2014   1  \n",
       "             21   TE  2014   1  \n",
       "             23   RB  2014   1  \n",
       "             28   RB  2014   1  \n",
       "             30   RB  2014   1  \n",
       "             34   TE  2014   1  \n",
       "             40   RB  2014   1  \n",
       "             45   TE  2014   1  \n",
       "             49   TE  2014   1  \n",
       "             56   RB  2014   1  \n",
       "             59   RB  2014   1  \n",
       "             71   RB  2014   1  \n",
       "             72   RB  2014   1  \n",
       "             78   TE  2014   1  \n",
       "             90   TE  2014   1  \n",
       "             106  TE  2014   1  \n",
       "             107  RB  2014   1  \n",
       "             116  RB  2014   1  \n",
       "             132  TE  2014   1  \n",
       "             138  RB  2014   1  \n",
       "             155  TE  2014   1  \n",
       "             167  RB  2014   1  \n",
       "             169  RB  2014   1  \n",
       "             173  RB  2014   1  \n",
       "             206  TE  2014   1  \n",
       "             212  RB  2014   1  \n",
       "             ..   ..   ...  ..  \n",
       "             180  TE  2014  17  \n",
       "             188  RB  2014  17  \n",
       "             199  TE  2014  17  \n",
       "             208  RB  2014  17  \n",
       "             221  RB  2014  17  \n",
       "             227  TE  2014  17  \n",
       "             232  RB  2014  17  \n",
       "             234  RB  2014  17  \n",
       "             235  RB  2014  17  \n",
       "             236  RB  2014  17  \n",
       "             240  RB  2014  17  \n",
       "             244  RB  2014  17  \n",
       "             245  RB  2014  17  \n",
       "             252  RB  2014  17  \n",
       "             266  RB  2014  17  \n",
       "             269  RB  2014  17  \n",
       "             275  RB  2014  17  \n",
       "             282  TE  2014  17  \n",
       "             284  TE  2014  17  \n",
       "             285  RB  2014  17  \n",
       "             295  TE  2014  17  \n",
       "             312  TE  2014  17  \n",
       "             314  RB  2014  17  \n",
       "             315  RB  2014  17  \n",
       "             326  TE  2014  17  \n",
       "             329  RB  2014  17  \n",
       "             331  TE  2014  17  \n",
       "             338  TE  2014  17  \n",
       "             350  TE  2014  17  \n",
       "             353  TE  2014  17  \n",
       "             \n",
       "             [979 rows x 6 columns]})"
      ]
     },
     "execution_count": 23,
     "metadata": {},
     "output_type": "execute_result"
    }
   ],
   "source": [
    "ps2.make_dataframes()"
   ]
  },
  {
   "cell_type": "code",
   "execution_count": 24,
   "metadata": {},
   "outputs": [
    {
     "data": {
      "text/plain": [
       "['data/1/fs_injury_2014.csv']"
      ]
     },
     "execution_count": 24,
     "metadata": {},
     "output_type": "execute_result"
    }
   ],
   "source": [
    "ps2.to_csv()"
   ]
  },
  {
   "cell_type": "code",
   "execution_count": null,
   "metadata": {},
   "outputs": [],
   "source": []
  }
 ],
 "metadata": {
  "kernelspec": {
   "display_name": "Python 3",
   "language": "python",
   "name": "python3"
  },
  "language_info": {
   "codemirror_mode": {
    "name": "ipython",
    "version": 3
   },
   "file_extension": ".py",
   "mimetype": "text/x-python",
   "name": "python",
   "nbconvert_exporter": "python",
   "pygments_lexer": "ipython3",
   "version": "3.6.5"
  }
 },
 "nbformat": 4,
 "nbformat_minor": 2
}
